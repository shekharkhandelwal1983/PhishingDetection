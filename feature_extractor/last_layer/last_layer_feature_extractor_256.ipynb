{
 "cells": [
  {
   "cell_type": "markdown",
   "metadata": {},
   "source": [
    "# Load Libraries"
   ]
  },
  {
   "cell_type": "code",
   "execution_count": null,
   "metadata": {},
   "outputs": [],
   "source": [
    "import numpy as np \n",
    "import matplotlib.pyplot as plt\n",
    "import glob\n",
    "import cv2\n",
    "\n",
    "from keras.models import Model, Sequential\n",
    "from keras.layers import Dense, Flatten, Conv2D, MaxPooling2D\n",
    "from keras.layers.normalization import BatchNormalization\n",
    "import os\n",
    "import seaborn as sns"
   ]
  },
  {
   "cell_type": "code",
   "execution_count": null,
   "metadata": {},
   "outputs": [],
   "source": [
    "SIZE = 256\n",
    "data_dir=\"../../data_extractor/\"+str(SIZE)+\"/\"\n",
    "out_dir=str(SIZE)+\"/\"\n",
    "print(os.listdir(data_dir))\n",
    "print(os.listdir(out_dir))"
   ]
  },
  {
   "cell_type": "markdown",
   "metadata": {},
   "source": [
    "# Load data arrays"
   ]
  },
  {
   "cell_type": "code",
   "execution_count": null,
   "metadata": {},
   "outputs": [],
   "source": [
    "train_images = np.load(data_dir+'/train_images.npy')\n",
    "test_images = np.load(data_dir+'/test_images.npy')\n",
    "train_labels= np.load(data_dir+'/train_labels.npy')\n",
    "test_labels = np.load(data_dir+'/test_labels.npy')"
   ]
  },
  {
   "cell_type": "markdown",
   "metadata": {},
   "source": [
    "# Encode labels from text to integers."
   ]
  },
  {
   "cell_type": "code",
   "execution_count": null,
   "metadata": {},
   "outputs": [],
   "source": [
    "from sklearn import preprocessing\n",
    "le = preprocessing.LabelEncoder()\n",
    "le.fit(test_labels)\n",
    "test_labels_encoded = le.transform(test_labels)\n",
    "le.fit(train_labels)\n",
    "train_labels_encoded = le.transform(train_labels)\n",
    "\n",
    "#pickle the label encoder\n",
    "np.save(out_dir+'label_encoder.npy', le.classes_)"
   ]
  },
  {
   "cell_type": "markdown",
   "metadata": {},
   "source": [
    "# Data Pre-processing"
   ]
  },
  {
   "cell_type": "code",
   "execution_count": null,
   "metadata": {},
   "outputs": [],
   "source": [
    "# Rename the datasets to proper naming convention\n",
    "x_train, y_train, x_test, y_test = train_images, train_labels_encoded, test_images, test_labels_encoded\n",
    "\n",
    "# Normalize pixel values to between 0 and 1\n",
    "x_train, x_test = x_train / 255.0, x_test / 255.0"
   ]
  },
  {
   "cell_type": "code",
   "execution_count": null,
   "metadata": {},
   "outputs": [],
   "source": [
    "np.save(out_dir+\"train_labels\", y_train)\n",
    "np.save(out_dir+\"test_labels\", y_test)"
   ]
  },
  {
   "cell_type": "markdown",
   "metadata": {},
   "source": [
    "# Xception"
   ]
  },
  {
   "cell_type": "code",
   "execution_count": null,
   "metadata": {},
   "outputs": [],
   "source": [
    "from keras.applications.xception import Xception\n",
    "\n",
    "# Load model without classifier/fully connected layers\n",
    "model = Xception(weights='imagenet', include_top=False, input_shape=(SIZE, SIZE, 3))\n",
    "\n",
    "# Make loaded layers as non-trainable. This is important as we want to work with pre-trained weights\n",
    "for layer in model.layers:\n",
    "    layer.trainable = False\n",
    "    \n",
    "model.summary()  #Trainable parameters will be 0\n",
    "\n",
    "#Send train data from feature extractor process\n",
    "feature_extractor=model.predict(x_train)\n",
    "features = feature_extractor.reshape(feature_extractor.shape[0], -1)\n",
    "\n",
    "#Send test data through same feature extractor process\n",
    "X_test_feature = model.predict(x_test)\n",
    "X_test_features = X_test_feature.reshape(X_test_feature.shape[0], -1)\n",
    "\n",
    "np.save(out_dir+\"Xception_train_images\", features)\n",
    "np.save(out_dir+\"Xception_test_images\", X_test_features)"
   ]
  },
  {
   "cell_type": "markdown",
   "metadata": {},
   "source": [
    "# VGG 16"
   ]
  },
  {
   "cell_type": "code",
   "execution_count": null,
   "metadata": {},
   "outputs": [],
   "source": [
    "from keras.applications.vgg16 import VGG16\n",
    "\n",
    "# Load model without classifier/fully connected layers\n",
    "model = VGG16(weights='imagenet', include_top=False, input_shape=(SIZE, SIZE, 3))\n",
    "\n",
    "# Make loaded layers as non-trainable. This is important as we want to work with pre-trained weights\n",
    "for layer in model.layers:\n",
    "    layer.trainable = False\n",
    "    \n",
    "print(model.summary())  #Trainable parameters will be 0\n",
    "\n",
    "#Send train data from feature extractor process\n",
    "feature_extractor=model.predict(x_train)\n",
    "features = feature_extractor.reshape(feature_extractor.shape[0], -1)\n",
    "\n",
    "#Send test data through same feature extractor process\n",
    "X_test_feature = model.predict(x_test)\n",
    "X_test_features = X_test_feature.reshape(X_test_feature.shape[0], -1)\n",
    "\n",
    "np.save(out_dir+\"VGG16_train_images\", features)\n",
    "np.save(out_dir+\"VGG16_test_images\", X_test_features)"
   ]
  },
  {
   "cell_type": "markdown",
   "metadata": {},
   "source": [
    "# VGG19"
   ]
  },
  {
   "cell_type": "code",
   "execution_count": null,
   "metadata": {},
   "outputs": [],
   "source": [
    "from keras.applications.vgg19 import VGG19\n",
    "\n",
    "# Load model without classifier/fully connected layers\n",
    "model = VGG19(weights='imagenet', include_top=False, input_shape=(SIZE, SIZE, 3))\n",
    "\n",
    "# Make loaded layers as non-trainable. This is important as we want to work with pre-trained weights\n",
    "for layer in model.layers:\n",
    "    layer.trainable = False\n",
    "    \n",
    "print(model.summary())  #Trainable parameters will be 0\n",
    "\n",
    "#Send train data from feature extractor process\n",
    "feature_extractor=model.predict(x_train)\n",
    "features = feature_extractor.reshape(feature_extractor.shape[0], -1)\n",
    "\n",
    "#Send test data through same feature extractor process\n",
    "X_test_feature = model.predict(x_test)\n",
    "X_test_features = X_test_feature.reshape(X_test_feature.shape[0], -1)\n",
    "\n",
    "np.save(out_dir+\"VGG19_train_images\", features)\n",
    "np.save(out_dir+\"VGG19_test_images\", X_test_features)"
   ]
  },
  {
   "cell_type": "markdown",
   "metadata": {},
   "source": [
    "# ResNet50"
   ]
  },
  {
   "cell_type": "code",
   "execution_count": null,
   "metadata": {},
   "outputs": [],
   "source": [
    "from keras.applications.resnet50 import ResNet50\n",
    "\n",
    "# Load model without classifier/fully connected layers\n",
    "model = ResNet50(weights='imagenet', include_top=False, input_shape=(SIZE, SIZE, 3))\n",
    "\n",
    "# Make loaded layers as non-trainable. This is important as we want to work with pre-trained weights\n",
    "for layer in model.layers:\n",
    "    layer.trainable = False\n",
    "    \n",
    "print(model.summary())  #Trainable parameters will be 0\n",
    "\n",
    "#Send train data from feature extractor process\n",
    "feature_extractor=model.predict(x_train)\n",
    "features = feature_extractor.reshape(feature_extractor.shape[0], -1)\n",
    "\n",
    "#Send test data through same feature extractor process\n",
    "X_test_feature = model.predict(x_test)\n",
    "X_test_features = X_test_feature.reshape(X_test_feature.shape[0], -1)\n",
    "\n",
    "np.save(out_dir+\"ResNet50_train_images\", features)\n",
    "np.save(out_dir+\"ResNet50_test_images\", X_test_features)"
   ]
  },
  {
   "cell_type": "markdown",
   "metadata": {},
   "source": [
    "# ResNet101"
   ]
  },
  {
   "cell_type": "code",
   "execution_count": null,
   "metadata": {},
   "outputs": [],
   "source": [
    "from keras.applications.resnet import ResNet101\n",
    "\n",
    "# Load model without classifier/fully connected layers\n",
    "model = ResNet101(weights='imagenet', include_top=False, input_shape=(SIZE, SIZE, 3))\n",
    "\n",
    "# Make loaded layers as non-trainable. This is important as we want to work with pre-trained weights\n",
    "for layer in model.layers:\n",
    "    layer.trainable = False\n",
    "    \n",
    "print(model.summary())  #Trainable parameters will be 0\n",
    "\n",
    "#Send train data from feature extractor process\n",
    "feature_extractor=model.predict(x_train)\n",
    "features = feature_extractor.reshape(feature_extractor.shape[0], -1)\n",
    "\n",
    "#Send test data through same feature extractor process\n",
    "X_test_feature = model.predict(x_test)\n",
    "X_test_features = X_test_feature.reshape(X_test_feature.shape[0], -1)\n",
    "\n",
    "np.save(out_dir+\"ResNet101_train_images\", features)\n",
    "np.save(out_dir+\"ResNet101_test_images\", X_test_features)"
   ]
  },
  {
   "cell_type": "markdown",
   "metadata": {},
   "source": [
    "# ResNet152"
   ]
  },
  {
   "cell_type": "code",
   "execution_count": null,
   "metadata": {},
   "outputs": [],
   "source": [
    "from keras.applications.resnet import ResNet152\n",
    "\n",
    "# Load model without classifier/fully connected layers\n",
    "model = ResNet152(weights='imagenet', include_top=False, input_shape=(SIZE, SIZE, 3))\n",
    "\n",
    "# Make loaded layers as non-trainable. This is important as we want to work with pre-trained weights\n",
    "for layer in model.layers:\n",
    "    layer.trainable = False\n",
    "    \n",
    "print(model.summary())  #Trainable parameters will be 0\n",
    "\n",
    "#Send train data from feature extractor process\n",
    "feature_extractor=model.predict(x_train)\n",
    "features = feature_extractor.reshape(feature_extractor.shape[0], -1)\n",
    "\n",
    "#Send test data through same feature extractor process\n",
    "X_test_feature = model.predict(x_test)\n",
    "X_test_features = X_test_feature.reshape(X_test_feature.shape[0], -1)\n",
    "\n",
    "np.save(out_dir+\"ResNet152_train_images\", features)\n",
    "np.save(out_dir+\"ResNet152_test_images\", X_test_features)"
   ]
  },
  {
   "cell_type": "markdown",
   "metadata": {},
   "source": [
    "# ResNet50V2"
   ]
  },
  {
   "cell_type": "code",
   "execution_count": null,
   "metadata": {},
   "outputs": [],
   "source": [
    "from keras.applications.resnet_v2 import ResNet50V2\n",
    "\n",
    "# Load model without classifier/fully connected layers\n",
    "model = ResNet50V2(weights='imagenet', include_top=False, input_shape=(SIZE, SIZE, 3))\n",
    "\n",
    "# Make loaded layers as non-trainable. This is important as we want to work with pre-trained weights\n",
    "for layer in model.layers:\n",
    "    layer.trainable = False\n",
    "    \n",
    "print(model.summary())  #Trainable parameters will be 0\n",
    "\n",
    "#Send train data from feature extractor process\n",
    "feature_extractor=model.predict(x_train)\n",
    "features = feature_extractor.reshape(feature_extractor.shape[0], -1)\n",
    "\n",
    "#Send test data through same feature extractor process\n",
    "X_test_feature = model.predict(x_test)\n",
    "X_test_features = X_test_feature.reshape(X_test_feature.shape[0], -1)\n",
    "\n",
    "np.save(out_dir+\"ResNet50V2_train_images\", features)\n",
    "np.save(out_dir+\"ResNet50V2_test_images\", X_test_features)"
   ]
  },
  {
   "cell_type": "markdown",
   "metadata": {},
   "source": [
    "# ResNet101V2"
   ]
  },
  {
   "cell_type": "code",
   "execution_count": null,
   "metadata": {},
   "outputs": [],
   "source": [
    "from keras.applications.resnet_v2 import ResNet101V2\n",
    "\n",
    "# Load model without classifier/fully connected layers\n",
    "model = ResNet101V2(weights='imagenet', include_top=False, input_shape=(SIZE, SIZE, 3))\n",
    "\n",
    "# Make loaded layers as non-trainable. This is important as we want to work with pre-trained weights\n",
    "for layer in model.layers:\n",
    "    layer.trainable = False\n",
    "    \n",
    "print(model.summary())  #Trainable parameters will be 0\n",
    "\n",
    "#Send train data from feature extractor process\n",
    "feature_extractor=model.predict(x_train)\n",
    "features = feature_extractor.reshape(feature_extractor.shape[0], -1)\n",
    "\n",
    "#Send test data through same feature extractor process\n",
    "X_test_feature = model.predict(x_test)\n",
    "X_test_features = X_test_feature.reshape(X_test_feature.shape[0], -1)\n",
    "\n",
    "np.save(out_dir+\"ResNet101V2_train_images\", features)\n",
    "np.save(out_dir+\"ResNet101V2_test_images\", X_test_features)"
   ]
  },
  {
   "cell_type": "markdown",
   "metadata": {},
   "source": [
    "# ResNet152V2"
   ]
  },
  {
   "cell_type": "code",
   "execution_count": null,
   "metadata": {},
   "outputs": [],
   "source": [
    "from keras.applications.resnet_v2 import ResNet152V2\n",
    "\n",
    "# Load model without classifier/fully connected layers\n",
    "model = ResNet152V2(weights='imagenet', include_top=False, input_shape=(SIZE, SIZE, 3))\n",
    "\n",
    "# Make loaded layers as non-trainable. This is important as we want to work with pre-trained weights\n",
    "for layer in model.layers:\n",
    "    layer.trainable = False\n",
    "    \n",
    "print(model.summary())  #Trainable parameters will be 0\n",
    "\n",
    "#Send train data from feature extractor process\n",
    "feature_extractor=model.predict(x_train)\n",
    "features = feature_extractor.reshape(feature_extractor.shape[0], -1)\n",
    "\n",
    "#Send test data through same feature extractor process\n",
    "X_test_feature = model.predict(x_test)\n",
    "X_test_features = X_test_feature.reshape(X_test_feature.shape[0], -1)\n",
    "\n",
    "np.save(out_dir+\"ResNet152V2_train_images\", features)\n",
    "np.save(out_dir+\"ResNet152V2_test_images\", X_test_features)"
   ]
  },
  {
   "cell_type": "markdown",
   "metadata": {},
   "source": [
    "# InceptionV3"
   ]
  },
  {
   "cell_type": "code",
   "execution_count": null,
   "metadata": {},
   "outputs": [],
   "source": [
    "from keras.applications.inception_v3 import InceptionV3\n",
    "\n",
    "# Load model without classifier/fully connected layers\n",
    "model = InceptionV3(weights='imagenet', include_top=False, input_shape=(SIZE, SIZE, 3))\n",
    "\n",
    "# Make loaded layers as non-trainable. This is important as we want to work with pre-trained weights\n",
    "for layer in model.layers:\n",
    "    layer.trainable = False\n",
    "    \n",
    "print(model.summary())  #Trainable parameters will be 0\n",
    "\n",
    "#Send train data from feature extractor process\n",
    "feature_extractor=model.predict(x_train)\n",
    "features = feature_extractor.reshape(feature_extractor.shape[0], -1)\n",
    "\n",
    "#Send test data through same feature extractor process\n",
    "X_test_feature = model.predict(x_test)\n",
    "X_test_features = X_test_feature.reshape(X_test_feature.shape[0], -1)\n",
    "\n",
    "np.save(out_dir+\"InceptionV3_train_images\", features)\n",
    "np.save(out_dir+\"InceptionV3_test_images\", X_test_features)"
   ]
  },
  {
   "cell_type": "markdown",
   "metadata": {},
   "source": [
    "# InceptionResNetV2"
   ]
  },
  {
   "cell_type": "code",
   "execution_count": null,
   "metadata": {},
   "outputs": [],
   "source": [
    "from keras.applications.inception_resnet_v2 import InceptionResNetV2\n",
    "\n",
    "# Load model without classifier/fully connected layers\n",
    "model = InceptionResNetV2(weights='imagenet', include_top=False, input_shape=(SIZE, SIZE, 3))\n",
    "\n",
    "# Make loaded layers as non-trainable. This is important as we want to work with pre-trained weights\n",
    "for layer in model.layers:\n",
    "    layer.trainable = False\n",
    "    \n",
    "print(model.summary())  #Trainable parameters will be 0\n",
    "\n",
    "#Send train data from feature extractor process\n",
    "feature_extractor=model.predict(x_train)\n",
    "features = feature_extractor.reshape(feature_extractor.shape[0], -1)\n",
    "\n",
    "#Send test data through same feature extractor process\n",
    "X_test_feature = model.predict(x_test)\n",
    "X_test_features = X_test_feature.reshape(X_test_feature.shape[0], -1)\n",
    "\n",
    "np.save(out_dir+\"InceptionResNetV2_train_images\", features)\n",
    "np.save(out_dir+\"InceptionResNetV2_test_images\", X_test_features)"
   ]
  },
  {
   "cell_type": "markdown",
   "metadata": {},
   "source": [
    "# MobileNet"
   ]
  },
  {
   "cell_type": "code",
   "execution_count": null,
   "metadata": {},
   "outputs": [],
   "source": [
    "from keras.applications.mobilenet import MobileNet\n",
    "\n",
    "# Load model without classifier/fully connected layers\n",
    "model = MobileNet(weights='imagenet', include_top=False, input_shape=(SIZE, SIZE, 3))\n",
    "\n",
    "# Make loaded layers as non-trainable. This is important as we want to work with pre-trained weights\n",
    "for layer in model.layers:\n",
    "    layer.trainable = False\n",
    "    \n",
    "print(model.summary())  #Trainable parameters will be 0\n",
    "\n",
    "#Send train data from feature extractor process\n",
    "feature_extractor=model.predict(x_train)\n",
    "features = feature_extractor.reshape(feature_extractor.shape[0], -1)\n",
    "\n",
    "#Send test data through same feature extractor process\n",
    "X_test_feature = model.predict(x_test)\n",
    "X_test_features = X_test_feature.reshape(X_test_feature.shape[0], -1)\n",
    "\n",
    "np.save(out_dir+\"MobileNet_train_images\", features)\n",
    "np.save(out_dir+\"MobileNet_test_images\", X_test_features)"
   ]
  },
  {
   "cell_type": "markdown",
   "metadata": {},
   "source": [
    "# MobileNetV2"
   ]
  },
  {
   "cell_type": "code",
   "execution_count": null,
   "metadata": {},
   "outputs": [],
   "source": [
    "from keras.applications.mobilenet_v2 import MobileNetV2\n",
    "\n",
    "# Load model without classifier/fully connected layers\n",
    "model = MobileNetV2(weights='imagenet', include_top=False, input_shape=(SIZE, SIZE, 3))\n",
    "\n",
    "# Make loaded layers as non-trainable. This is important as we want to work with pre-trained weights\n",
    "for layer in model.layers:\n",
    "    layer.trainable = False\n",
    "    \n",
    "print(model.summary())  #Trainable parameters will be 0\n",
    "\n",
    "#Send train data from feature extractor process\n",
    "feature_extractor=model.predict(x_train)\n",
    "features = feature_extractor.reshape(feature_extractor.shape[0], -1)\n",
    "\n",
    "#Send test data through same feature extractor process\n",
    "X_test_feature = model.predict(x_test)\n",
    "X_test_features = X_test_feature.reshape(X_test_feature.shape[0], -1)\n",
    "\n",
    "np.save(out_dir+\"MobileNetV2_train_images\", features)\n",
    "np.save(out_dir+\"MobileNetV2_test_images\", X_test_features)"
   ]
  },
  {
   "cell_type": "markdown",
   "metadata": {},
   "source": [
    "# DenseNet121"
   ]
  },
  {
   "cell_type": "code",
   "execution_count": null,
   "metadata": {},
   "outputs": [],
   "source": [
    "from keras.applications.densenet import DenseNet121\n",
    "\n",
    "# Load model without classifier/fully connected layers\n",
    "model = DenseNet121(weights='imagenet', include_top=False, input_shape=(SIZE, SIZE, 3))\n",
    "\n",
    "# Make loaded layers as non-trainable. This is important as we want to work with pre-trained weights\n",
    "for layer in model.layers:\n",
    "    layer.trainable = False\n",
    "    \n",
    "print(model.summary())  #Trainable parameters will be 0\n",
    "\n",
    "#Send train data from feature extractor process\n",
    "feature_extractor=model.predict(x_train)\n",
    "features = feature_extractor.reshape(feature_extractor.shape[0], -1)\n",
    "\n",
    "#Send test data through same feature extractor process\n",
    "X_test_feature = model.predict(x_test)\n",
    "X_test_features = X_test_feature.reshape(X_test_feature.shape[0], -1)\n",
    "\n",
    "np.save(out_dir+\"DenseNet121_train_images\", features)\n",
    "np.save(out_dir+\"DenseNet121_test_images\", X_test_features)"
   ]
  },
  {
   "cell_type": "markdown",
   "metadata": {},
   "source": [
    "# DenseNet169"
   ]
  },
  {
   "cell_type": "code",
   "execution_count": null,
   "metadata": {},
   "outputs": [],
   "source": [
    "from keras.applications.densenet import DenseNet169\n",
    "\n",
    "# Load model without classifier/fully connected layers\n",
    "model = DenseNet169(weights='imagenet', include_top=False, input_shape=(SIZE, SIZE, 3))\n",
    "\n",
    "# Make loaded layers as non-trainable. This is important as we want to work with pre-trained weights\n",
    "for layer in model.layers:\n",
    "    layer.trainable = False\n",
    "    \n",
    "print(model.summary())  #Trainable parameters will be 0\n",
    "\n",
    "#Send train data from feature extractor process\n",
    "feature_extractor=model.predict(x_train)\n",
    "features = feature_extractor.reshape(feature_extractor.shape[0], -1)\n",
    "\n",
    "#Send test data through same feature extractor process\n",
    "X_test_feature = model.predict(x_test)\n",
    "X_test_features = X_test_feature.reshape(X_test_feature.shape[0], -1)\n",
    "\n",
    "np.save(out_dir+\"DenseNet169_train_images\", features)\n",
    "np.save(out_dir+\"DenseNet169_test_images\", X_test_features)"
   ]
  },
  {
   "cell_type": "markdown",
   "metadata": {},
   "source": [
    "# DenseNet201"
   ]
  },
  {
   "cell_type": "code",
   "execution_count": null,
   "metadata": {},
   "outputs": [],
   "source": [
    "from keras.applications.densenet import DenseNet201\n",
    "\n",
    "# Load model without classifier/fully connected layers\n",
    "model = DenseNet201(weights='imagenet', include_top=False, input_shape=(SIZE, SIZE, 3))\n",
    "\n",
    "# Make loaded layers as non-trainable. This is important as we want to work with pre-trained weights\n",
    "for layer in model.layers:\n",
    "    layer.trainable = False\n",
    "    \n",
    "print(model.summary())  #Trainable parameters will be 0\n",
    "\n",
    "#Send train data from feature extractor process\n",
    "feature_extractor=model.predict(x_train)\n",
    "features = feature_extractor.reshape(feature_extractor.shape[0], -1)\n",
    "\n",
    "#Send test data through same feature extractor process\n",
    "X_test_feature = model.predict(x_test)\n",
    "X_test_features = X_test_feature.reshape(X_test_feature.shape[0], -1)\n",
    "\n",
    "np.save(out_dir+\"DenseNet201_train_images\", features)\n",
    "np.save(out_dir+\"DenseNet201_test_images\", X_test_features)"
   ]
  }
 ],
 "metadata": {
  "kernelspec": {
   "display_name": "Python 3",
   "language": "python",
   "name": "python3"
  },
  "language_info": {
   "codemirror_mode": {
    "name": "ipython",
    "version": 3
   },
   "file_extension": ".py",
   "mimetype": "text/x-python",
   "name": "python",
   "nbconvert_exporter": "python",
   "pygments_lexer": "ipython3",
   "version": "3.8.3"
  }
 },
 "nbformat": 4,
 "nbformat_minor": 4
}
