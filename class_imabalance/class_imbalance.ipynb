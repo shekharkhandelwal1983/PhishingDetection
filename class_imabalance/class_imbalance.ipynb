{
 "cells": [
  {
   "cell_type": "markdown",
   "metadata": {},
   "source": [
    "# Load Libraries"
   ]
  },
  {
   "cell_type": "code",
   "execution_count": 1,
   "metadata": {},
   "outputs": [],
   "source": [
    "import numpy as np \n",
    "import matplotlib.pyplot as plt\n",
    "import glob\n",
    "import cv2\n",
    "\n",
    "from keras.models import Model, Sequential\n",
    "from keras.layers import Dense, Flatten, Conv2D, MaxPooling2D\n",
    "from keras.layers.normalization import BatchNormalization\n",
    "import os\n",
    "import seaborn as sns"
   ]
  },
  {
   "cell_type": "code",
   "execution_count": 4,
   "metadata": {},
   "outputs": [
    {
     "name": "stdout",
     "output_type": "stream",
     "text": [
      "['ResNet101_test_images.npy', 'VGG19_test_images.npy', 'VGG19_train_images.npy', 'ResNet50_test_images.npy', 'VGG16_test_images.npy', 'test_labels.npy', 'DenseNet201_test_images.npy', 'VGG16_train_images.npy', 'train_labels.npy', 'label_encoder.npy', 'ResNet50_train_images.npy', 'Xception_test_images.npy', 'ResNet101_train_images.npy', 'Xception_train_images.npy', 'DenseNet201_train_images.npy']\n",
      "['VGG16_X_train_SMOTE.npy', 'VGG16_y_train_SMOTE.npy']\n"
     ]
    }
   ],
   "source": [
    "SIZE=512\n",
    "data_dir=\"../feature_extractor/last_layer/\"+str(SIZE)+\"/\"\n",
    "out_dir=\"last_layer/\"+str(SIZE)+\"/\"\n",
    "print(os.listdir(data_dir))\n",
    "print(os.listdir(out_dir))"
   ]
  },
  {
   "cell_type": "markdown",
   "metadata": {},
   "source": [
    "# Managing Class Imbalance"
   ]
  },
  {
   "cell_type": "markdown",
   "metadata": {},
   "source": [
    "https://machinelearningmastery.com/smote-oversampling-for-imbalanced-classification/"
   ]
  },
  {
   "cell_type": "raw",
   "metadata": {},
   "source": [
    "list_of_architectures = [\n",
    "    \"Xception\",\n",
    "    \"VGG16\",\n",
    "    \"VGG19\",\n",
    "    \"ResNet50\",\n",
    "    \"ResNet101\",\n",
    "    \"ResNet152\",\n",
    "    \"ResNet50V2\",\n",
    "    \"ResNet101V2\",\n",
    "    \"ResNet152V2\",\n",
    "    \"InceptionV3\",\n",
    "    \"InceptionResNetV2\",\n",
    "    \"MobileNet\",\n",
    "    \"MobileNetV2\",\n",
    "    \"DenseNet121\",\n",
    "    \"DenseNet169\",\n",
    "    \"DenseNet201\"\n",
    "    \n",
    "]"
   ]
  },
  {
   "cell_type": "code",
   "execution_count": 5,
   "metadata": {},
   "outputs": [],
   "source": [
    "list_of_architectures = [\n",
    "    \"DenseNet201\"  \n",
    "]"
   ]
  },
  {
   "cell_type": "markdown",
   "metadata": {},
   "source": [
    "# Reusable function"
   ]
  },
  {
   "cell_type": "code",
   "execution_count": 6,
   "metadata": {},
   "outputs": [],
   "source": [
    "def getSMOTE(model):\n",
    "    X_for_ML = np.load(data_dir+model+\"_train_images.npy\") \n",
    "    y_train = np.load(data_dir+'/train_labels.npy')\n",
    "\n",
    "    # SMOTE\n",
    "    from imblearn.over_sampling import SMOTE\n",
    "    oversample = SMOTE()\n",
    "    X_train_SMOTE, y_train_SMOTE = oversample.fit_resample(X_for_ML, y_train)\n",
    "\n",
    "    np.save(out_dir+model+\"_X_train_SMOTE\", X_train_SMOTE)\n",
    "    np.save(out_dir+model+\"_y_train_SMOTE\", y_train_SMOTE)"
   ]
  },
  {
   "cell_type": "code",
   "execution_count": 7,
   "metadata": {},
   "outputs": [
    {
     "name": "stdout",
     "output_type": "stream",
     "text": [
      "DenseNet201\n"
     ]
    }
   ],
   "source": [
    "for arch in list_of_architectures:\n",
    "    print(arch)\n",
    "    getSMOTE(arch)"
   ]
  },
  {
   "cell_type": "code",
   "execution_count": null,
   "metadata": {},
   "outputs": [],
   "source": []
  }
 ],
 "metadata": {
  "kernelspec": {
   "display_name": "Python 3",
   "language": "python",
   "name": "python3"
  },
  "language_info": {
   "codemirror_mode": {
    "name": "ipython",
    "version": 3
   },
   "file_extension": ".py",
   "mimetype": "text/x-python",
   "name": "python",
   "nbconvert_exporter": "python",
   "pygments_lexer": "ipython3",
   "version": "3.8.3"
  }
 },
 "nbformat": 4,
 "nbformat_minor": 4
}
