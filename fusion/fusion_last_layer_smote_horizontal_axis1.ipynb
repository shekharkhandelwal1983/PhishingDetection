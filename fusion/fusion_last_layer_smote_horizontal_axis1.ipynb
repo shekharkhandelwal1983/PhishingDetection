{
 "cells": [
  {
   "cell_type": "markdown",
   "metadata": {},
   "source": [
    "# Load Libraries"
   ]
  },
  {
   "cell_type": "code",
   "execution_count": 1,
   "metadata": {},
   "outputs": [],
   "source": [
    "import numpy as np \n",
    "import matplotlib.pyplot as plt\n",
    "import glob\n",
    "import cv2\n",
    "\n",
    "from keras.models import Model, Sequential\n",
    "from keras.layers import Dense, Flatten, Conv2D, MaxPooling2D\n",
    "from keras.layers.normalization import BatchNormalization\n",
    "import os\n",
    "import seaborn as sns"
   ]
  },
  {
   "cell_type": "code",
   "execution_count": 2,
   "metadata": {},
   "outputs": [],
   "source": [
    "list_of_size = [\n",
    "    128,\n",
    "    256\n",
    "]"
   ]
  },
  {
   "cell_type": "code",
   "execution_count": 3,
   "metadata": {},
   "outputs": [],
   "source": [
    "layer = \"last_layer\""
   ]
  },
  {
   "cell_type": "markdown",
   "metadata": {},
   "source": [
    "# get Data"
   ]
  },
  {
   "cell_type": "code",
   "execution_count": 4,
   "metadata": {},
   "outputs": [],
   "source": [
    "import tensorflow as tf\n",
    "def getData(model1, model2, layer, image_size):\n",
    "    train_data_dir=\"../class_imabalance/\" + layer + \"/\" + str(image_size)+\"/\"\n",
    "    test_data_dir=\"../feature_extractor/\" + layer + \"/\" + str(image_size)+\"/\"\n",
    "    X_train1=np.load(train_data_dir+model1+\"_X_train_SMOTE.npy\")\n",
    "    X_train2=np.load(train_data_dir+model2+\"_X_train_SMOTE.npy\")\n",
    "    X_train = tf.keras.layers.concatenate([X_train1, X_train2],\n",
    "                            axis=1)\n",
    "    \n",
    "    y_train=np.load(train_data_dir+model1+\"_y_train_SMOTE.npy\")\n",
    "    \n",
    "    X_test1=np.load(test_data_dir+model1+\"_test_images.npy\")\n",
    "    X_test2=np.load(test_data_dir+model2+\"_test_images.npy\")\n",
    "    X_test = tf.keras.layers.concatenate([X_test1, X_test2],\n",
    "                            axis=1)\n",
    "    \n",
    "    y_test=np.load(test_data_dir+\"test_labels.npy\")\n",
    "    \n",
    "    \n",
    "    return X_train, y_train, X_test, y_test"
   ]
  },
  {
   "cell_type": "code",
   "execution_count": 5,
   "metadata": {},
   "outputs": [],
   "source": [
    "list_of_architectures = [\n",
    "    \"Xception\",\n",
    "    \"VGG16\",\n",
    "    \"VGG19\",\n",
    "    \"ResNet50\",\n",
    "    \"ResNet101\",\n",
    "    \"ResNet152\",\n",
    "    \"ResNet50V2\",\n",
    "    \"ResNet101V2\",\n",
    "    \"ResNet152V2\",\n",
    "    \"InceptionV3\",\n",
    "    \"InceptionResNetV2\",\n",
    "    \"MobileNet\",\n",
    "    \"MobileNetV2\",\n",
    "    \"DenseNet121\",\n",
    "    \"DenseNet169\",\n",
    "    \"DenseNet201\"\n",
    "    \n",
    "]"
   ]
  },
  {
   "cell_type": "code",
   "execution_count": 6,
   "metadata": {
    "scrolled": false
   },
   "outputs": [],
   "source": [
    "from itertools import combinations\n",
    "list_of_combinations=[\",\".join(map(str, comb)) for comb in combinations(list_of_architectures, 2)]"
   ]
  },
  {
   "cell_type": "code",
   "execution_count": 7,
   "metadata": {},
   "outputs": [
    {
     "name": "stdout",
     "output_type": "stream",
     "text": [
      "Xception VGG16 last_layer 128\n",
      "Xception VGG19 last_layer 128\n",
      "Xception ResNet50 last_layer 128\n",
      "Xception ResNet101 last_layer 128\n",
      "Xception ResNet152 last_layer 128\n",
      "Xception ResNet50V2 last_layer 128\n",
      "Xception ResNet101V2 last_layer 128\n",
      "Xception ResNet152V2 last_layer 128\n",
      "Xception InceptionV3 last_layer 128\n",
      "Xception InceptionResNetV2 last_layer 128\n",
      "Xception MobileNet last_layer 128\n",
      "Xception MobileNetV2 last_layer 128\n",
      "Xception DenseNet121 last_layer 128\n",
      "Xception DenseNet169 last_layer 128\n",
      "Xception DenseNet201 last_layer 128\n",
      "VGG16 VGG19 last_layer 128\n",
      "VGG16 ResNet50 last_layer 128\n",
      "VGG16 ResNet101 last_layer 128\n",
      "VGG16 ResNet152 last_layer 128\n",
      "VGG16 ResNet50V2 last_layer 128\n",
      "VGG16 ResNet101V2 last_layer 128\n",
      "VGG16 ResNet152V2 last_layer 128\n",
      "VGG16 InceptionV3 last_layer 128\n",
      "VGG16 InceptionResNetV2 last_layer 128\n",
      "VGG16 MobileNet last_layer 128\n",
      "VGG16 MobileNetV2 last_layer 128\n",
      "VGG16 DenseNet121 last_layer 128\n",
      "VGG16 DenseNet169 last_layer 128\n",
      "VGG16 DenseNet201 last_layer 128\n",
      "VGG19 ResNet50 last_layer 128\n",
      "VGG19 ResNet101 last_layer 128\n",
      "VGG19 ResNet152 last_layer 128\n",
      "VGG19 ResNet50V2 last_layer 128\n",
      "VGG19 ResNet101V2 last_layer 128\n",
      "VGG19 ResNet152V2 last_layer 128\n",
      "VGG19 InceptionV3 last_layer 128\n",
      "VGG19 InceptionResNetV2 last_layer 128\n",
      "VGG19 MobileNet last_layer 128\n",
      "VGG19 MobileNetV2 last_layer 128\n",
      "VGG19 DenseNet121 last_layer 128\n",
      "VGG19 DenseNet169 last_layer 128\n",
      "VGG19 DenseNet201 last_layer 128\n",
      "ResNet50 ResNet101 last_layer 128\n",
      "ResNet50 ResNet152 last_layer 128\n",
      "ResNet50 ResNet50V2 last_layer 128\n",
      "ResNet50 ResNet101V2 last_layer 128\n",
      "ResNet50 ResNet152V2 last_layer 128\n",
      "ResNet50 InceptionV3 last_layer 128\n",
      "ResNet50 InceptionResNetV2 last_layer 128\n",
      "ResNet50 MobileNet last_layer 128\n",
      "ResNet50 MobileNetV2 last_layer 128\n",
      "ResNet50 DenseNet121 last_layer 128\n",
      "ResNet50 DenseNet169 last_layer 128\n",
      "ResNet50 DenseNet201 last_layer 128\n",
      "ResNet101 ResNet152 last_layer 128\n",
      "ResNet101 ResNet50V2 last_layer 128\n",
      "ResNet101 ResNet101V2 last_layer 128\n",
      "ResNet101 ResNet152V2 last_layer 128\n",
      "ResNet101 InceptionV3 last_layer 128\n",
      "ResNet101 InceptionResNetV2 last_layer 128\n",
      "ResNet101 MobileNet last_layer 128\n",
      "ResNet101 MobileNetV2 last_layer 128\n",
      "ResNet101 DenseNet121 last_layer 128\n",
      "ResNet101 DenseNet169 last_layer 128\n",
      "ResNet101 DenseNet201 last_layer 128\n",
      "ResNet152 ResNet50V2 last_layer 128\n",
      "ResNet152 ResNet101V2 last_layer 128\n",
      "ResNet152 ResNet152V2 last_layer 128\n",
      "ResNet152 InceptionV3 last_layer 128\n",
      "ResNet152 InceptionResNetV2 last_layer 128\n",
      "ResNet152 MobileNet last_layer 128\n",
      "ResNet152 MobileNetV2 last_layer 128\n",
      "ResNet152 DenseNet121 last_layer 128\n",
      "ResNet152 DenseNet169 last_layer 128\n",
      "ResNet152 DenseNet201 last_layer 128\n",
      "ResNet50V2 ResNet101V2 last_layer 128\n",
      "ResNet50V2 ResNet152V2 last_layer 128\n",
      "ResNet50V2 InceptionV3 last_layer 128\n",
      "ResNet50V2 InceptionResNetV2 last_layer 128\n",
      "ResNet50V2 MobileNet last_layer 128\n",
      "ResNet50V2 MobileNetV2 last_layer 128\n",
      "ResNet50V2 DenseNet121 last_layer 128\n",
      "ResNet50V2 DenseNet169 last_layer 128\n",
      "ResNet50V2 DenseNet201 last_layer 128\n",
      "ResNet101V2 ResNet152V2 last_layer 128\n",
      "ResNet101V2 InceptionV3 last_layer 128\n",
      "ResNet101V2 InceptionResNetV2 last_layer 128\n",
      "ResNet101V2 MobileNet last_layer 128\n",
      "ResNet101V2 MobileNetV2 last_layer 128\n",
      "ResNet101V2 DenseNet121 last_layer 128\n",
      "ResNet101V2 DenseNet169 last_layer 128\n",
      "ResNet101V2 DenseNet201 last_layer 128\n",
      "ResNet152V2 InceptionV3 last_layer 128\n",
      "ResNet152V2 InceptionResNetV2 last_layer 128\n",
      "ResNet152V2 MobileNet last_layer 128\n",
      "ResNet152V2 MobileNetV2 last_layer 128\n",
      "ResNet152V2 DenseNet121 last_layer 128\n",
      "ResNet152V2 DenseNet169 last_layer 128\n"
     ]
    },
    {
     "ename": "OSError",
     "evalue": "356352000 requested and 273878016 written",
     "output_type": "error",
     "traceback": [
      "\u001b[0;31m---------------------------------------------------------------------------\u001b[0m",
      "\u001b[0;31mOSError\u001b[0m                                   Traceback (most recent call last)",
      "\u001b[0;32m<ipython-input-7-815207d92583>\u001b[0m in \u001b[0;36m<module>\u001b[0;34m\u001b[0m\n\u001b[1;32m      5\u001b[0m         \u001b[0mprint\u001b[0m\u001b[0;34m(\u001b[0m\u001b[0mmodel1\u001b[0m\u001b[0;34m,\u001b[0m \u001b[0mmodel2\u001b[0m\u001b[0;34m,\u001b[0m \u001b[0mlayer\u001b[0m\u001b[0;34m,\u001b[0m \u001b[0mimage_size\u001b[0m\u001b[0;34m)\u001b[0m\u001b[0;34m\u001b[0m\u001b[0;34m\u001b[0m\u001b[0m\n\u001b[1;32m      6\u001b[0m         \u001b[0mX_train\u001b[0m\u001b[0;34m,\u001b[0m \u001b[0my_train\u001b[0m\u001b[0;34m,\u001b[0m \u001b[0mX_test\u001b[0m\u001b[0;34m,\u001b[0m \u001b[0my_test\u001b[0m \u001b[0;34m=\u001b[0m \u001b[0mgetData\u001b[0m\u001b[0;34m(\u001b[0m\u001b[0mmodel1\u001b[0m\u001b[0;34m,\u001b[0m \u001b[0mmodel2\u001b[0m\u001b[0;34m,\u001b[0m \u001b[0mlayer\u001b[0m\u001b[0;34m,\u001b[0m \u001b[0mimage_size\u001b[0m\u001b[0;34m)\u001b[0m\u001b[0;34m\u001b[0m\u001b[0;34m\u001b[0m\u001b[0m\n\u001b[0;32m----> 7\u001b[0;31m         \u001b[0mnp\u001b[0m\u001b[0;34m.\u001b[0m\u001b[0msave\u001b[0m\u001b[0;34m(\u001b[0m\u001b[0mlayer\u001b[0m \u001b[0;34m+\u001b[0m \u001b[0;34m\"/\"\u001b[0m \u001b[0;34m+\u001b[0m \u001b[0mstr\u001b[0m\u001b[0;34m(\u001b[0m\u001b[0mimage_size\u001b[0m\u001b[0;34m)\u001b[0m \u001b[0;34m+\u001b[0m \u001b[0;34m\"/\"\u001b[0m \u001b[0;34m+\u001b[0m \u001b[0mmodel1\u001b[0m \u001b[0;34m+\u001b[0m \u001b[0;34m\"_\"\u001b[0m \u001b[0;34m+\u001b[0m \u001b[0mmodel2\u001b[0m \u001b[0;34m+\u001b[0m \u001b[0;34m\"_\"\u001b[0m \u001b[0;34m+\u001b[0m \u001b[0;34m\"train\"\u001b[0m\u001b[0;34m,\u001b[0m \u001b[0mX_train\u001b[0m\u001b[0;34m)\u001b[0m\u001b[0;34m\u001b[0m\u001b[0;34m\u001b[0m\u001b[0m\n\u001b[0m\u001b[1;32m      8\u001b[0m         \u001b[0mnp\u001b[0m\u001b[0;34m.\u001b[0m\u001b[0msave\u001b[0m\u001b[0;34m(\u001b[0m\u001b[0mlayer\u001b[0m \u001b[0;34m+\u001b[0m \u001b[0;34m\"/\"\u001b[0m \u001b[0;34m+\u001b[0m \u001b[0mstr\u001b[0m\u001b[0;34m(\u001b[0m\u001b[0mimage_size\u001b[0m\u001b[0;34m)\u001b[0m \u001b[0;34m+\u001b[0m \u001b[0;34m\"/\"\u001b[0m \u001b[0;34m+\u001b[0m \u001b[0mmodel1\u001b[0m \u001b[0;34m+\u001b[0m \u001b[0;34m\"_\"\u001b[0m \u001b[0;34m+\u001b[0m \u001b[0mmodel2\u001b[0m \u001b[0;34m+\u001b[0m \u001b[0;34m\"_\"\u001b[0m \u001b[0;34m+\u001b[0m \u001b[0;34m\"test\"\u001b[0m\u001b[0;34m,\u001b[0m \u001b[0mX_test\u001b[0m\u001b[0;34m)\u001b[0m\u001b[0;34m\u001b[0m\u001b[0;34m\u001b[0m\u001b[0m\n\u001b[1;32m      9\u001b[0m \u001b[0;34m\u001b[0m\u001b[0m\n",
      "\u001b[0;32m<__array_function__ internals>\u001b[0m in \u001b[0;36msave\u001b[0;34m(*args, **kwargs)\u001b[0m\n",
      "\u001b[0;32m/usr/local/anaconda3/lib/python3.8/site-packages/numpy/lib/npyio.py\u001b[0m in \u001b[0;36msave\u001b[0;34m(file, arr, allow_pickle, fix_imports)\u001b[0m\n\u001b[1;32m    550\u001b[0m     \u001b[0;32mtry\u001b[0m\u001b[0;34m:\u001b[0m\u001b[0;34m\u001b[0m\u001b[0;34m\u001b[0m\u001b[0m\n\u001b[1;32m    551\u001b[0m         \u001b[0marr\u001b[0m \u001b[0;34m=\u001b[0m \u001b[0mnp\u001b[0m\u001b[0;34m.\u001b[0m\u001b[0masanyarray\u001b[0m\u001b[0;34m(\u001b[0m\u001b[0marr\u001b[0m\u001b[0;34m)\u001b[0m\u001b[0;34m\u001b[0m\u001b[0;34m\u001b[0m\u001b[0m\n\u001b[0;32m--> 552\u001b[0;31m         format.write_array(fid, arr, allow_pickle=allow_pickle,\n\u001b[0m\u001b[1;32m    553\u001b[0m                            pickle_kwargs=pickle_kwargs)\n\u001b[1;32m    554\u001b[0m     \u001b[0;32mfinally\u001b[0m\u001b[0;34m:\u001b[0m\u001b[0;34m\u001b[0m\u001b[0;34m\u001b[0m\u001b[0m\n",
      "\u001b[0;32m/usr/local/anaconda3/lib/python3.8/site-packages/numpy/lib/format.py\u001b[0m in \u001b[0;36mwrite_array\u001b[0;34m(fp, array, version, allow_pickle, pickle_kwargs)\u001b[0m\n\u001b[1;32m    685\u001b[0m     \u001b[0;32melse\u001b[0m\u001b[0;34m:\u001b[0m\u001b[0;34m\u001b[0m\u001b[0;34m\u001b[0m\u001b[0m\n\u001b[1;32m    686\u001b[0m         \u001b[0;32mif\u001b[0m \u001b[0misfileobj\u001b[0m\u001b[0;34m(\u001b[0m\u001b[0mfp\u001b[0m\u001b[0;34m)\u001b[0m\u001b[0;34m:\u001b[0m\u001b[0;34m\u001b[0m\u001b[0;34m\u001b[0m\u001b[0m\n\u001b[0;32m--> 687\u001b[0;31m             \u001b[0marray\u001b[0m\u001b[0;34m.\u001b[0m\u001b[0mtofile\u001b[0m\u001b[0;34m(\u001b[0m\u001b[0mfp\u001b[0m\u001b[0;34m)\u001b[0m\u001b[0;34m\u001b[0m\u001b[0;34m\u001b[0m\u001b[0m\n\u001b[0m\u001b[1;32m    688\u001b[0m         \u001b[0;32melse\u001b[0m\u001b[0;34m:\u001b[0m\u001b[0;34m\u001b[0m\u001b[0;34m\u001b[0m\u001b[0m\n\u001b[1;32m    689\u001b[0m             for chunk in numpy.nditer(\n",
      "\u001b[0;31mOSError\u001b[0m: 356352000 requested and 273878016 written"
     ]
    }
   ],
   "source": [
    "for image_size in list_of_size:\n",
    "    for models in list_of_combinations:\n",
    "        model1 = models.split(\",\")[0]\n",
    "        model2 = models.split(\",\")[1]\n",
    "        print(model1, model2, layer, image_size)\n",
    "        X_train, y_train, X_test, y_test = getData(model1, model2, layer, image_size)\n",
    "        np.save(layer + \"/\" + str(image_size) + \"/\" + model1 + \"_\" + model2 + \"_\" + \"train\", X_train)\n",
    "        np.save(layer + \"/\" + str(image_size) + \"/\" + model1 + \"_\" + model2 + \"_\" + \"test\", X_test)\n",
    "        "
   ]
  },
  {
   "cell_type": "code",
   "execution_count": null,
   "metadata": {},
   "outputs": [],
   "source": []
  }
 ],
 "metadata": {
  "kernelspec": {
   "display_name": "Python 3",
   "language": "python",
   "name": "python3"
  },
  "language_info": {
   "codemirror_mode": {
    "name": "ipython",
    "version": 3
   },
   "file_extension": ".py",
   "mimetype": "text/x-python",
   "name": "python",
   "nbconvert_exporter": "python",
   "pygments_lexer": "ipython3",
   "version": "3.8.3"
  }
 },
 "nbformat": 4,
 "nbformat_minor": 4
}
